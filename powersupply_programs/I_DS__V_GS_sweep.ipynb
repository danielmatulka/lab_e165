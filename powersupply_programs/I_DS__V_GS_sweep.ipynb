{
 "cells": [
  {
   "cell_type": "code",
   "execution_count": 1,
   "metadata": {},
   "outputs": [],
   "source": [
    "from Keithley2450 import *\n",
    "from VoltCraftPSP1803 import *\n",
    "import time\n",
    "import pandas as pd\n",
    "import numpy as np\n",
    "import plotly.graph_objects as go"
   ]
  },
  {
   "cell_type": "code",
   "execution_count": 2,
   "metadata": {},
   "outputs": [],
   "source": [
    "results_combined = pd.DataFrame()\n",
    "### Define some funktions\n",
    "def sweep(VC,SM,tpl,setpoints,setpoints_V,pol_changed):\n",
    "    results = pd.DataFrame()\n",
    "    # measure 0V (only measured with the pos polarity)\n",
    "    if not pol_changed:\n",
    "        VC.disable_output()\n",
    "        time.sleep(1)\n",
    "        SM.initialise()\n",
    "        time.sleep(tpl)\n",
    "        data = SM.read_buffer()\n",
    "        data['bias'] = 0\n",
    "        data['abs_Read'] = abs(data['Read'])\n",
    "        results = pd.concat([results, data], ignore_index=True, sort=False)\n",
    "    \n",
    "    for i in range(len(setpoints)):\n",
    "        VC.set_voltage(setpoints[i])\n",
    "        VC.enable_output()\n",
    "        time.sleep(1)\n",
    "        SM.initialise()\n",
    "        time.sleep(tpl)\n",
    "        data = SM.read_buffer()\n",
    "        data['abs_Read'] = abs(data['Read'])\n",
    "        if pol_changed:\n",
    "            data['bias'] = -setpoints_V[i]\n",
    "        else:\n",
    "            data['bias'] = setpoints_V[i]\n",
    "        results = pd.concat([results, data], ignore_index=True, sort=False)\n",
    "    VC.set_voltage(0)\n",
    "    VC.disable_output()\n",
    "    return results\n",
    "\n",
    "def pos_sweep(VC,SM,tpl,setpoints,setpoints_V):\n",
    "    return sweep(VC,SM,tpl,setpoints,setpoints_V,False)\n",
    "\n",
    "def neg_sweep(VC,SM,tpl,setpoints,setpoints_V):\n",
    "    return sweep(VC,SM,tpl,setpoints,setpoints_V,True)\n",
    "\n",
    "def plot(results, sample_folder,sample_name,log_scale:bool = False,write_html:bool=True):\n",
    "    list_V = [0.1,0,-0.1]\n",
    "    a = 0.001\n",
    "    fig = go.Figure()\n",
    "    for i in list_V:\n",
    "        data =results[results['Source']>=i-a][results['Source']<=i+a]\n",
    "        fig.add_trace(go.Scatter(x=data['bias'],y=data['abs_Read'],mode='markers', name = 'V(DS) = '+str(i) + ' V'))\n",
    "\n",
    "    fig.update_layout(\n",
    "        xaxis_title=\"V(GS)\",\n",
    "        yaxis_title=\"I(DS)\",\n",
    "    )\n",
    "    if log_scale:\n",
    "        fig.update_yaxes(type=\"log\")\n",
    "    \n",
    "    if write_html:\n",
    "        fig.write_html(sample_folder + sample_name +'_Bias_vs_Current_lin.html')\n",
    "    return fig"
   ]
  },
  {
   "cell_type": "code",
   "execution_count": 3,
   "metadata": {},
   "outputs": [],
   "source": [
    "# Setup Voltcraft power supply\n",
    "vc = VoltCraftPSP1803('COM3')\n",
    "vc.disable_output()\n",
    "vc.set_voltage(0)"
   ]
  },
  {
   "cell_type": "code",
   "execution_count": 4,
   "metadata": {},
   "outputs": [],
   "source": [
    "## Define Parameters\n",
    "time_per_loop = 1 # time it takes for the keithley to perfom a full loop\n",
    "sample_folder = 'C:\\\\Users\\\\LabUser\\\\Documents\\\\Data_Transistortesting\\\\230210\\\\' #path to save the data \n",
    "# Keithley\n",
    "v_start = -0.1  # Start Voltage for Keithley in Volt\n",
    "v_stop = 0.1    # Start Voltage for Keithley in Volt\n",
    "points = 3      # Number of points to measure (keithley)\n",
    "i_limit = 0.1   # current limit used by the keithley in Amps\n",
    "delay = 0.1     # time waited by the Keithley bevore Sampeling\n",
    "# Voltcraft\n",
    "setpoints = [0,0.5,1,1.5,2,2.5,3,3.5,4,4.5,5,5.5,6,6.5,7,7.5,8,8.5,9,9.5,10]        # Voltages set by the Voltcraft in Volt\n",
    "setpoints_V = [0.288,0.737,1.203,1.683,2.17,2.67,3.18,3.68,4.18,4.68,5.18,5.68,6.19,6.7,7.2,7.7,8.20,8.69,9.19,9.69,10.19]# real outputtvoltages by the Voltcraft in Volt \n",
    "polarity_changed = False    # polarity of the Voltcraft (True == nomal, False == reverse=negativ voltages)"
   ]
  },
  {
   "cell_type": "code",
   "execution_count": 5,
   "metadata": {},
   "outputs": [],
   "source": [
    "sm = Keithley2450()\n",
    "sm.use_front_terimals()\n",
    "sm.sens_current()\n",
    "sm.set_sens_range('auto')\n",
    "sm.source_voltage()\n",
    "sm.set_source_range(max(v_start,v_stop))\n",
    "sm.set_source_limit(i_limit)\n",
    "sm.set_wire(two_wire=True)\n",
    "sm.setup_voltage_sweep(v_start,v_stop,points,delay=delay)"
   ]
  },
  {
   "cell_type": "code",
   "execution_count": null,
   "metadata": {},
   "outputs": [],
   "source": [
    "sm.initialise() # testfunktion for time_per_loop parameter"
   ]
  },
  {
   "cell_type": "code",
   "execution_count": 8,
   "metadata": {},
   "outputs": [],
   "source": [
    "sample_name = 'graphene_sisio2_300_coppercontact_drain'\n",
    "results_neg = neg_sweep(vc,sm,time_per_loop,setpoints=setpoints,setpoints_V=setpoints_V)"
   ]
  },
  {
   "cell_type": "code",
   "execution_count": 9,
   "metadata": {},
   "outputs": [
    {
     "name": "stderr",
     "output_type": "stream",
     "text": [
      "C:\\Users\\LabAdmin\\AppData\\Local\\Temp\\ipykernel_2412\\3192161379.py:44: UserWarning:\n",
      "\n",
      "Boolean Series key will be reindexed to match DataFrame index.\n",
      "\n"
     ]
    },
    {
     "data": {
      "application/vnd.plotly.v1+json": {
       "config": {
        "plotlyServerURL": "https://plot.ly"
       },
       "data": [
        {
         "mode": "markers",
         "name": "V(DS) = 0.1 V",
         "type": "scatter",
         "x": [
          -0.288,
          -0.737,
          -1.203,
          -1.683,
          -2.17,
          -2.67,
          -3.18,
          -3.68,
          -4.18,
          -4.68,
          -5.18,
          -5.68,
          -6.19,
          -6.7,
          -7.2,
          -7.7,
          -8.2,
          -8.69,
          -9.19,
          -9.69,
          -10.19,
          0.737,
          1.203,
          1.683,
          2.17,
          2.67,
          3.18,
          3.68,
          4.18,
          4.68,
          5.18,
          5.68,
          6.19,
          6.7,
          7.2,
          7.7,
          8.2,
          8.69,
          9.19,
          9.69,
          10.19
         ],
         "y": [
          1.184812e-7,
          0.000002380584,
          0.000009418389,
          0.00002132805,
          0.00003922864,
          0.00005592333,
          0.00007540742,
          0.00009557895,
          0.0001157149,
          0.00013685,
          0.0001776909,
          0.0001969632,
          0.0002237681,
          0.000250145,
          0.0002713506,
          0.0002990334,
          0.0003173769,
          0.0003354508,
          0.0003467406,
          0.0003508692,
          0.0003544929,
          0.000003865323,
          0.00003698554,
          0.0001032478,
          0.0001922105,
          0.0002935339,
          0.0004046099,
          0.0005253874,
          0.0006551134,
          0.0007939209,
          0.0009140334,
          0.001052305,
          0.001213066,
          0.001365469,
          0.001509045,
          0.001629552,
          0.001774892,
          0.00192324,
          0.00207417,
          0.002273479,
          0.002382564
         ]
        },
        {
         "mode": "markers",
         "name": "V(DS) = 0 V",
         "type": "scatter",
         "x": [
          -0.288,
          -0.737,
          -1.203,
          -1.683,
          -2.17,
          -2.67,
          -3.18,
          -3.68,
          -4.18,
          -4.68,
          -5.18,
          -5.68,
          -6.19,
          -6.7,
          -7.2,
          -7.7,
          -8.2,
          -8.69,
          -9.19,
          -9.69,
          -10.19,
          0,
          0.288,
          0.737,
          1.203,
          1.683,
          2.17,
          2.67,
          3.18,
          3.68,
          4.18,
          4.68,
          5.18,
          5.68,
          6.19,
          6.7,
          7.2,
          7.7,
          8.2,
          8.69,
          9.19,
          9.69,
          10.19
         ],
         "y": [
          5.585672e-8,
          0.000001428679,
          0.000007585478,
          0.0000182513,
          0.00003639164,
          0.00005215496,
          0.00007017535,
          0.00009119396,
          0.0001116,
          0.0001315038,
          0.0001728934,
          0.0001930233,
          0.0002194731,
          0.0002446119,
          0.000270794,
          0.0002926798,
          0.0003131118,
          0.0003317629,
          0.0003410142,
          0.0003467102,
          0.0003542059,
          0.000001842956,
          2.312081e-7,
          0.000007214679,
          0.00004821939,
          0.0001194112,
          0.0002113479,
          0.0003144614,
          0.0004268546,
          0.0005481868,
          0.0006815278,
          0.0008197551,
          0.0009638997,
          0.00107973,
          0.001236424,
          0.001393446,
          0.001513822,
          0.001656413,
          0.001807024,
          0.001950475,
          0.002101756,
          0.002298071,
          0.002433785
         ]
        },
        {
         "mode": "markers",
         "name": "V(DS) = -0.1 V",
         "type": "scatter",
         "x": [
          -0.288,
          -0.737,
          -1.203,
          -1.683,
          -2.17,
          -2.67,
          -3.18,
          -3.68,
          -4.18,
          -4.68,
          -5.18,
          -5.68,
          -6.19,
          -6.7,
          -7.2,
          -7.7,
          -8.2,
          -8.69,
          -9.19,
          -9.69,
          -10.19,
          0,
          0.288,
          0.737,
          1.203,
          1.683,
          2.17,
          2.67,
          3.18,
          3.68,
          4.18,
          4.68,
          5.18,
          5.68,
          6.19,
          6.7,
          7.2,
          7.7,
          8.2,
          8.69,
          9.19,
          9.69,
          10.19
         ],
         "y": [
          1.002946e-7,
          7.685395e-7,
          0.00000587564,
          0.00001514497,
          0.00002889289,
          0.00004922627,
          0.00006668455,
          0.00008535341,
          0.0001071817,
          0.0001280157,
          0.0001691811,
          0.0001899685,
          0.0002165637,
          0.000238301,
          0.0002650484,
          0.000286566,
          0.0003095595,
          0.00032799,
          0.0003418381,
          0.0003477018,
          0.0003596439,
          0.000003877979,
          6.059651e-7,
          0.00001093458,
          0.00006031496,
          0.0001358952,
          0.0002302924,
          0.0003348922,
          0.0004484764,
          0.0005709706,
          0.000703807,
          0.000843576,
          0.0009932322,
          0.001102575,
          0.001259284,
          0.001416936,
          0.00154481,
          0.001678333,
          0.001839562,
          0.001978086,
          0.002127327,
          0.002333713,
          0.002484794
         ]
        }
       ],
       "layout": {
        "template": {
         "data": {
          "bar": [
           {
            "error_x": {
             "color": "#2a3f5f"
            },
            "error_y": {
             "color": "#2a3f5f"
            },
            "marker": {
             "line": {
              "color": "#E5ECF6",
              "width": 0.5
             },
             "pattern": {
              "fillmode": "overlay",
              "size": 10,
              "solidity": 0.2
             }
            },
            "type": "bar"
           }
          ],
          "barpolar": [
           {
            "marker": {
             "line": {
              "color": "#E5ECF6",
              "width": 0.5
             },
             "pattern": {
              "fillmode": "overlay",
              "size": 10,
              "solidity": 0.2
             }
            },
            "type": "barpolar"
           }
          ],
          "carpet": [
           {
            "aaxis": {
             "endlinecolor": "#2a3f5f",
             "gridcolor": "white",
             "linecolor": "white",
             "minorgridcolor": "white",
             "startlinecolor": "#2a3f5f"
            },
            "baxis": {
             "endlinecolor": "#2a3f5f",
             "gridcolor": "white",
             "linecolor": "white",
             "minorgridcolor": "white",
             "startlinecolor": "#2a3f5f"
            },
            "type": "carpet"
           }
          ],
          "choropleth": [
           {
            "colorbar": {
             "outlinewidth": 0,
             "ticks": ""
            },
            "type": "choropleth"
           }
          ],
          "contour": [
           {
            "colorbar": {
             "outlinewidth": 0,
             "ticks": ""
            },
            "colorscale": [
             [
              0,
              "#0d0887"
             ],
             [
              0.1111111111111111,
              "#46039f"
             ],
             [
              0.2222222222222222,
              "#7201a8"
             ],
             [
              0.3333333333333333,
              "#9c179e"
             ],
             [
              0.4444444444444444,
              "#bd3786"
             ],
             [
              0.5555555555555556,
              "#d8576b"
             ],
             [
              0.6666666666666666,
              "#ed7953"
             ],
             [
              0.7777777777777778,
              "#fb9f3a"
             ],
             [
              0.8888888888888888,
              "#fdca26"
             ],
             [
              1,
              "#f0f921"
             ]
            ],
            "type": "contour"
           }
          ],
          "contourcarpet": [
           {
            "colorbar": {
             "outlinewidth": 0,
             "ticks": ""
            },
            "type": "contourcarpet"
           }
          ],
          "heatmap": [
           {
            "colorbar": {
             "outlinewidth": 0,
             "ticks": ""
            },
            "colorscale": [
             [
              0,
              "#0d0887"
             ],
             [
              0.1111111111111111,
              "#46039f"
             ],
             [
              0.2222222222222222,
              "#7201a8"
             ],
             [
              0.3333333333333333,
              "#9c179e"
             ],
             [
              0.4444444444444444,
              "#bd3786"
             ],
             [
              0.5555555555555556,
              "#d8576b"
             ],
             [
              0.6666666666666666,
              "#ed7953"
             ],
             [
              0.7777777777777778,
              "#fb9f3a"
             ],
             [
              0.8888888888888888,
              "#fdca26"
             ],
             [
              1,
              "#f0f921"
             ]
            ],
            "type": "heatmap"
           }
          ],
          "heatmapgl": [
           {
            "colorbar": {
             "outlinewidth": 0,
             "ticks": ""
            },
            "colorscale": [
             [
              0,
              "#0d0887"
             ],
             [
              0.1111111111111111,
              "#46039f"
             ],
             [
              0.2222222222222222,
              "#7201a8"
             ],
             [
              0.3333333333333333,
              "#9c179e"
             ],
             [
              0.4444444444444444,
              "#bd3786"
             ],
             [
              0.5555555555555556,
              "#d8576b"
             ],
             [
              0.6666666666666666,
              "#ed7953"
             ],
             [
              0.7777777777777778,
              "#fb9f3a"
             ],
             [
              0.8888888888888888,
              "#fdca26"
             ],
             [
              1,
              "#f0f921"
             ]
            ],
            "type": "heatmapgl"
           }
          ],
          "histogram": [
           {
            "marker": {
             "pattern": {
              "fillmode": "overlay",
              "size": 10,
              "solidity": 0.2
             }
            },
            "type": "histogram"
           }
          ],
          "histogram2d": [
           {
            "colorbar": {
             "outlinewidth": 0,
             "ticks": ""
            },
            "colorscale": [
             [
              0,
              "#0d0887"
             ],
             [
              0.1111111111111111,
              "#46039f"
             ],
             [
              0.2222222222222222,
              "#7201a8"
             ],
             [
              0.3333333333333333,
              "#9c179e"
             ],
             [
              0.4444444444444444,
              "#bd3786"
             ],
             [
              0.5555555555555556,
              "#d8576b"
             ],
             [
              0.6666666666666666,
              "#ed7953"
             ],
             [
              0.7777777777777778,
              "#fb9f3a"
             ],
             [
              0.8888888888888888,
              "#fdca26"
             ],
             [
              1,
              "#f0f921"
             ]
            ],
            "type": "histogram2d"
           }
          ],
          "histogram2dcontour": [
           {
            "colorbar": {
             "outlinewidth": 0,
             "ticks": ""
            },
            "colorscale": [
             [
              0,
              "#0d0887"
             ],
             [
              0.1111111111111111,
              "#46039f"
             ],
             [
              0.2222222222222222,
              "#7201a8"
             ],
             [
              0.3333333333333333,
              "#9c179e"
             ],
             [
              0.4444444444444444,
              "#bd3786"
             ],
             [
              0.5555555555555556,
              "#d8576b"
             ],
             [
              0.6666666666666666,
              "#ed7953"
             ],
             [
              0.7777777777777778,
              "#fb9f3a"
             ],
             [
              0.8888888888888888,
              "#fdca26"
             ],
             [
              1,
              "#f0f921"
             ]
            ],
            "type": "histogram2dcontour"
           }
          ],
          "mesh3d": [
           {
            "colorbar": {
             "outlinewidth": 0,
             "ticks": ""
            },
            "type": "mesh3d"
           }
          ],
          "parcoords": [
           {
            "line": {
             "colorbar": {
              "outlinewidth": 0,
              "ticks": ""
             }
            },
            "type": "parcoords"
           }
          ],
          "pie": [
           {
            "automargin": true,
            "type": "pie"
           }
          ],
          "scatter": [
           {
            "fillpattern": {
             "fillmode": "overlay",
             "size": 10,
             "solidity": 0.2
            },
            "type": "scatter"
           }
          ],
          "scatter3d": [
           {
            "line": {
             "colorbar": {
              "outlinewidth": 0,
              "ticks": ""
             }
            },
            "marker": {
             "colorbar": {
              "outlinewidth": 0,
              "ticks": ""
             }
            },
            "type": "scatter3d"
           }
          ],
          "scattercarpet": [
           {
            "marker": {
             "colorbar": {
              "outlinewidth": 0,
              "ticks": ""
             }
            },
            "type": "scattercarpet"
           }
          ],
          "scattergeo": [
           {
            "marker": {
             "colorbar": {
              "outlinewidth": 0,
              "ticks": ""
             }
            },
            "type": "scattergeo"
           }
          ],
          "scattergl": [
           {
            "marker": {
             "colorbar": {
              "outlinewidth": 0,
              "ticks": ""
             }
            },
            "type": "scattergl"
           }
          ],
          "scattermapbox": [
           {
            "marker": {
             "colorbar": {
              "outlinewidth": 0,
              "ticks": ""
             }
            },
            "type": "scattermapbox"
           }
          ],
          "scatterpolar": [
           {
            "marker": {
             "colorbar": {
              "outlinewidth": 0,
              "ticks": ""
             }
            },
            "type": "scatterpolar"
           }
          ],
          "scatterpolargl": [
           {
            "marker": {
             "colorbar": {
              "outlinewidth": 0,
              "ticks": ""
             }
            },
            "type": "scatterpolargl"
           }
          ],
          "scatterternary": [
           {
            "marker": {
             "colorbar": {
              "outlinewidth": 0,
              "ticks": ""
             }
            },
            "type": "scatterternary"
           }
          ],
          "surface": [
           {
            "colorbar": {
             "outlinewidth": 0,
             "ticks": ""
            },
            "colorscale": [
             [
              0,
              "#0d0887"
             ],
             [
              0.1111111111111111,
              "#46039f"
             ],
             [
              0.2222222222222222,
              "#7201a8"
             ],
             [
              0.3333333333333333,
              "#9c179e"
             ],
             [
              0.4444444444444444,
              "#bd3786"
             ],
             [
              0.5555555555555556,
              "#d8576b"
             ],
             [
              0.6666666666666666,
              "#ed7953"
             ],
             [
              0.7777777777777778,
              "#fb9f3a"
             ],
             [
              0.8888888888888888,
              "#fdca26"
             ],
             [
              1,
              "#f0f921"
             ]
            ],
            "type": "surface"
           }
          ],
          "table": [
           {
            "cells": {
             "fill": {
              "color": "#EBF0F8"
             },
             "line": {
              "color": "white"
             }
            },
            "header": {
             "fill": {
              "color": "#C8D4E3"
             },
             "line": {
              "color": "white"
             }
            },
            "type": "table"
           }
          ]
         },
         "layout": {
          "annotationdefaults": {
           "arrowcolor": "#2a3f5f",
           "arrowhead": 0,
           "arrowwidth": 1
          },
          "autotypenumbers": "strict",
          "coloraxis": {
           "colorbar": {
            "outlinewidth": 0,
            "ticks": ""
           }
          },
          "colorscale": {
           "diverging": [
            [
             0,
             "#8e0152"
            ],
            [
             0.1,
             "#c51b7d"
            ],
            [
             0.2,
             "#de77ae"
            ],
            [
             0.3,
             "#f1b6da"
            ],
            [
             0.4,
             "#fde0ef"
            ],
            [
             0.5,
             "#f7f7f7"
            ],
            [
             0.6,
             "#e6f5d0"
            ],
            [
             0.7,
             "#b8e186"
            ],
            [
             0.8,
             "#7fbc41"
            ],
            [
             0.9,
             "#4d9221"
            ],
            [
             1,
             "#276419"
            ]
           ],
           "sequential": [
            [
             0,
             "#0d0887"
            ],
            [
             0.1111111111111111,
             "#46039f"
            ],
            [
             0.2222222222222222,
             "#7201a8"
            ],
            [
             0.3333333333333333,
             "#9c179e"
            ],
            [
             0.4444444444444444,
             "#bd3786"
            ],
            [
             0.5555555555555556,
             "#d8576b"
            ],
            [
             0.6666666666666666,
             "#ed7953"
            ],
            [
             0.7777777777777778,
             "#fb9f3a"
            ],
            [
             0.8888888888888888,
             "#fdca26"
            ],
            [
             1,
             "#f0f921"
            ]
           ],
           "sequentialminus": [
            [
             0,
             "#0d0887"
            ],
            [
             0.1111111111111111,
             "#46039f"
            ],
            [
             0.2222222222222222,
             "#7201a8"
            ],
            [
             0.3333333333333333,
             "#9c179e"
            ],
            [
             0.4444444444444444,
             "#bd3786"
            ],
            [
             0.5555555555555556,
             "#d8576b"
            ],
            [
             0.6666666666666666,
             "#ed7953"
            ],
            [
             0.7777777777777778,
             "#fb9f3a"
            ],
            [
             0.8888888888888888,
             "#fdca26"
            ],
            [
             1,
             "#f0f921"
            ]
           ]
          },
          "colorway": [
           "#636efa",
           "#EF553B",
           "#00cc96",
           "#ab63fa",
           "#FFA15A",
           "#19d3f3",
           "#FF6692",
           "#B6E880",
           "#FF97FF",
           "#FECB52"
          ],
          "font": {
           "color": "#2a3f5f"
          },
          "geo": {
           "bgcolor": "white",
           "lakecolor": "white",
           "landcolor": "#E5ECF6",
           "showlakes": true,
           "showland": true,
           "subunitcolor": "white"
          },
          "hoverlabel": {
           "align": "left"
          },
          "hovermode": "closest",
          "mapbox": {
           "style": "light"
          },
          "paper_bgcolor": "white",
          "plot_bgcolor": "#E5ECF6",
          "polar": {
           "angularaxis": {
            "gridcolor": "white",
            "linecolor": "white",
            "ticks": ""
           },
           "bgcolor": "#E5ECF6",
           "radialaxis": {
            "gridcolor": "white",
            "linecolor": "white",
            "ticks": ""
           }
          },
          "scene": {
           "xaxis": {
            "backgroundcolor": "#E5ECF6",
            "gridcolor": "white",
            "gridwidth": 2,
            "linecolor": "white",
            "showbackground": true,
            "ticks": "",
            "zerolinecolor": "white"
           },
           "yaxis": {
            "backgroundcolor": "#E5ECF6",
            "gridcolor": "white",
            "gridwidth": 2,
            "linecolor": "white",
            "showbackground": true,
            "ticks": "",
            "zerolinecolor": "white"
           },
           "zaxis": {
            "backgroundcolor": "#E5ECF6",
            "gridcolor": "white",
            "gridwidth": 2,
            "linecolor": "white",
            "showbackground": true,
            "ticks": "",
            "zerolinecolor": "white"
           }
          },
          "shapedefaults": {
           "line": {
            "color": "#2a3f5f"
           }
          },
          "ternary": {
           "aaxis": {
            "gridcolor": "white",
            "linecolor": "white",
            "ticks": ""
           },
           "baxis": {
            "gridcolor": "white",
            "linecolor": "white",
            "ticks": ""
           },
           "bgcolor": "#E5ECF6",
           "caxis": {
            "gridcolor": "white",
            "linecolor": "white",
            "ticks": ""
           }
          },
          "title": {
           "x": 0.05
          },
          "xaxis": {
           "automargin": true,
           "gridcolor": "white",
           "linecolor": "white",
           "ticks": "",
           "title": {
            "standoff": 15
           },
           "zerolinecolor": "white",
           "zerolinewidth": 2
          },
          "yaxis": {
           "automargin": true,
           "gridcolor": "white",
           "linecolor": "white",
           "ticks": "",
           "title": {
            "standoff": 15
           },
           "zerolinecolor": "white",
           "zerolinewidth": 2
          }
         }
        },
        "xaxis": {
         "title": {
          "text": "V(GS)"
         }
        },
        "yaxis": {
         "title": {
          "text": "I(DS)"
         }
        }
       }
      }
     },
     "metadata": {},
     "output_type": "display_data"
    }
   ],
   "source": [
    "results_pos = pos_sweep(vc,sm,time_per_loop,setpoints=setpoints,setpoints_V=setpoints_V)\n",
    "results = pd.concat([results_neg, results_pos], ignore_index=True, sort=False)\n",
    "fig = plot(results=results,sample_folder=sample_folder,sample_name=sample_name)\n",
    "fig.show()\n",
    "results.to_csv(sample_folder + sample_name +'.csv')\n",
    "results['Name'] = sample_name\n",
    "results_combined = pd.concat([results_combined, results], ignore_index=True, sort=False)"
   ]
  },
  {
   "cell_type": "code",
   "execution_count": 10,
   "metadata": {},
   "outputs": [
    {
     "data": {
      "application/vnd.plotly.v1+json": {
       "config": {
        "plotlyServerURL": "https://plot.ly"
       },
       "data": [
        {
         "mode": "markers",
         "name": "Sample: graphene_pmma_si",
         "type": "scatter",
         "x": [
          -0.288,
          -0.737,
          -1.203,
          -1.683,
          -2.17,
          -2.67,
          -3.18,
          -3.68,
          -4.18,
          -4.68,
          -5.18,
          -5.68,
          -6.19,
          -6.7,
          -7.2,
          -7.7,
          -8.2,
          -8.69,
          -9.19,
          -9.69,
          -10.19,
          0,
          0.288,
          0.737,
          1.203,
          1.683,
          2.17,
          2.67,
          3.18,
          3.68,
          4.18,
          4.68,
          5.18,
          5.68,
          6.19,
          6.7,
          7.2,
          7.7,
          8.2,
          8.69,
          9.19,
          9.69,
          10.19
         ],
         "y": [
          0.00005920355,
          0.00005928383,
          0.00005936864,
          0.00005945197,
          0.0000595445,
          0.00005963457,
          0.0000597302,
          0.0000598249,
          0.00005991776,
          0.00006001318,
          0.00006011267,
          0.00006020772,
          0.00006030372,
          0.00006039814,
          0.00006049357,
          0.00006058994,
          0.00006068586,
          0.00006077641,
          0.00006087049,
          0.00006096562,
          0.00006106025,
          0.00005761247,
          0.00005908767,
          0.0000593465,
          0.00005926635,
          0.00005917345,
          0.00005908197,
          0.00005898672,
          0.00005889176,
          0.00005879566,
          0.00005870074,
          0.00005860368,
          0.00005850708,
          0.0000584081,
          0.0000583092,
          0.00005821137,
          0.00005811298,
          0.00005801438,
          0.0000579146,
          0.00005781895,
          0.00005771909,
          0.00005761946,
          0.00005752123
         ]
        },
        {
         "mode": "markers",
         "name": "Sample: graphene_sisio2_300_coppercontact_drain",
         "type": "scatter",
         "x": [
          -0.288,
          -0.737,
          -1.203,
          -1.683,
          -2.17,
          -2.67,
          -3.18,
          -3.68,
          -4.18,
          -4.68,
          -5.18,
          -5.68,
          -6.19,
          -6.7,
          -7.2,
          -7.7,
          -8.2,
          -8.69,
          -9.19,
          -9.69,
          -10.19,
          0,
          0.288,
          0.737,
          1.203,
          1.683,
          2.17,
          2.67,
          3.18,
          3.68,
          4.18,
          4.68,
          5.18,
          5.68,
          6.19,
          6.7,
          7.2,
          7.7,
          8.2,
          8.69,
          9.19,
          9.69,
          10.19
         ],
         "y": [
          1.002946e-7,
          7.685395e-7,
          0.00000587564,
          0.00001514497,
          0.00002889289,
          0.00004922627,
          0.00006668455,
          0.00008535341,
          0.0001071817,
          0.0001280157,
          0.0001691811,
          0.0001899685,
          0.0002165637,
          0.000238301,
          0.0002650484,
          0.000286566,
          0.0003095595,
          0.00032799,
          0.0003418381,
          0.0003477018,
          0.0003596439,
          0.000003877979,
          6.059651e-7,
          0.00001093458,
          0.00006031496,
          0.0001358952,
          0.0002302924,
          0.0003348922,
          0.0004484764,
          0.0005709706,
          0.000703807,
          0.000843576,
          0.0009932322,
          0.001102575,
          0.001259284,
          0.001416936,
          0.00154481,
          0.001678333,
          0.001839562,
          0.001978086,
          0.002127327,
          0.002333713,
          0.002484794
         ]
        }
       ],
       "layout": {
        "template": {
         "data": {
          "bar": [
           {
            "error_x": {
             "color": "#2a3f5f"
            },
            "error_y": {
             "color": "#2a3f5f"
            },
            "marker": {
             "line": {
              "color": "#E5ECF6",
              "width": 0.5
             },
             "pattern": {
              "fillmode": "overlay",
              "size": 10,
              "solidity": 0.2
             }
            },
            "type": "bar"
           }
          ],
          "barpolar": [
           {
            "marker": {
             "line": {
              "color": "#E5ECF6",
              "width": 0.5
             },
             "pattern": {
              "fillmode": "overlay",
              "size": 10,
              "solidity": 0.2
             }
            },
            "type": "barpolar"
           }
          ],
          "carpet": [
           {
            "aaxis": {
             "endlinecolor": "#2a3f5f",
             "gridcolor": "white",
             "linecolor": "white",
             "minorgridcolor": "white",
             "startlinecolor": "#2a3f5f"
            },
            "baxis": {
             "endlinecolor": "#2a3f5f",
             "gridcolor": "white",
             "linecolor": "white",
             "minorgridcolor": "white",
             "startlinecolor": "#2a3f5f"
            },
            "type": "carpet"
           }
          ],
          "choropleth": [
           {
            "colorbar": {
             "outlinewidth": 0,
             "ticks": ""
            },
            "type": "choropleth"
           }
          ],
          "contour": [
           {
            "colorbar": {
             "outlinewidth": 0,
             "ticks": ""
            },
            "colorscale": [
             [
              0,
              "#0d0887"
             ],
             [
              0.1111111111111111,
              "#46039f"
             ],
             [
              0.2222222222222222,
              "#7201a8"
             ],
             [
              0.3333333333333333,
              "#9c179e"
             ],
             [
              0.4444444444444444,
              "#bd3786"
             ],
             [
              0.5555555555555556,
              "#d8576b"
             ],
             [
              0.6666666666666666,
              "#ed7953"
             ],
             [
              0.7777777777777778,
              "#fb9f3a"
             ],
             [
              0.8888888888888888,
              "#fdca26"
             ],
             [
              1,
              "#f0f921"
             ]
            ],
            "type": "contour"
           }
          ],
          "contourcarpet": [
           {
            "colorbar": {
             "outlinewidth": 0,
             "ticks": ""
            },
            "type": "contourcarpet"
           }
          ],
          "heatmap": [
           {
            "colorbar": {
             "outlinewidth": 0,
             "ticks": ""
            },
            "colorscale": [
             [
              0,
              "#0d0887"
             ],
             [
              0.1111111111111111,
              "#46039f"
             ],
             [
              0.2222222222222222,
              "#7201a8"
             ],
             [
              0.3333333333333333,
              "#9c179e"
             ],
             [
              0.4444444444444444,
              "#bd3786"
             ],
             [
              0.5555555555555556,
              "#d8576b"
             ],
             [
              0.6666666666666666,
              "#ed7953"
             ],
             [
              0.7777777777777778,
              "#fb9f3a"
             ],
             [
              0.8888888888888888,
              "#fdca26"
             ],
             [
              1,
              "#f0f921"
             ]
            ],
            "type": "heatmap"
           }
          ],
          "heatmapgl": [
           {
            "colorbar": {
             "outlinewidth": 0,
             "ticks": ""
            },
            "colorscale": [
             [
              0,
              "#0d0887"
             ],
             [
              0.1111111111111111,
              "#46039f"
             ],
             [
              0.2222222222222222,
              "#7201a8"
             ],
             [
              0.3333333333333333,
              "#9c179e"
             ],
             [
              0.4444444444444444,
              "#bd3786"
             ],
             [
              0.5555555555555556,
              "#d8576b"
             ],
             [
              0.6666666666666666,
              "#ed7953"
             ],
             [
              0.7777777777777778,
              "#fb9f3a"
             ],
             [
              0.8888888888888888,
              "#fdca26"
             ],
             [
              1,
              "#f0f921"
             ]
            ],
            "type": "heatmapgl"
           }
          ],
          "histogram": [
           {
            "marker": {
             "pattern": {
              "fillmode": "overlay",
              "size": 10,
              "solidity": 0.2
             }
            },
            "type": "histogram"
           }
          ],
          "histogram2d": [
           {
            "colorbar": {
             "outlinewidth": 0,
             "ticks": ""
            },
            "colorscale": [
             [
              0,
              "#0d0887"
             ],
             [
              0.1111111111111111,
              "#46039f"
             ],
             [
              0.2222222222222222,
              "#7201a8"
             ],
             [
              0.3333333333333333,
              "#9c179e"
             ],
             [
              0.4444444444444444,
              "#bd3786"
             ],
             [
              0.5555555555555556,
              "#d8576b"
             ],
             [
              0.6666666666666666,
              "#ed7953"
             ],
             [
              0.7777777777777778,
              "#fb9f3a"
             ],
             [
              0.8888888888888888,
              "#fdca26"
             ],
             [
              1,
              "#f0f921"
             ]
            ],
            "type": "histogram2d"
           }
          ],
          "histogram2dcontour": [
           {
            "colorbar": {
             "outlinewidth": 0,
             "ticks": ""
            },
            "colorscale": [
             [
              0,
              "#0d0887"
             ],
             [
              0.1111111111111111,
              "#46039f"
             ],
             [
              0.2222222222222222,
              "#7201a8"
             ],
             [
              0.3333333333333333,
              "#9c179e"
             ],
             [
              0.4444444444444444,
              "#bd3786"
             ],
             [
              0.5555555555555556,
              "#d8576b"
             ],
             [
              0.6666666666666666,
              "#ed7953"
             ],
             [
              0.7777777777777778,
              "#fb9f3a"
             ],
             [
              0.8888888888888888,
              "#fdca26"
             ],
             [
              1,
              "#f0f921"
             ]
            ],
            "type": "histogram2dcontour"
           }
          ],
          "mesh3d": [
           {
            "colorbar": {
             "outlinewidth": 0,
             "ticks": ""
            },
            "type": "mesh3d"
           }
          ],
          "parcoords": [
           {
            "line": {
             "colorbar": {
              "outlinewidth": 0,
              "ticks": ""
             }
            },
            "type": "parcoords"
           }
          ],
          "pie": [
           {
            "automargin": true,
            "type": "pie"
           }
          ],
          "scatter": [
           {
            "fillpattern": {
             "fillmode": "overlay",
             "size": 10,
             "solidity": 0.2
            },
            "type": "scatter"
           }
          ],
          "scatter3d": [
           {
            "line": {
             "colorbar": {
              "outlinewidth": 0,
              "ticks": ""
             }
            },
            "marker": {
             "colorbar": {
              "outlinewidth": 0,
              "ticks": ""
             }
            },
            "type": "scatter3d"
           }
          ],
          "scattercarpet": [
           {
            "marker": {
             "colorbar": {
              "outlinewidth": 0,
              "ticks": ""
             }
            },
            "type": "scattercarpet"
           }
          ],
          "scattergeo": [
           {
            "marker": {
             "colorbar": {
              "outlinewidth": 0,
              "ticks": ""
             }
            },
            "type": "scattergeo"
           }
          ],
          "scattergl": [
           {
            "marker": {
             "colorbar": {
              "outlinewidth": 0,
              "ticks": ""
             }
            },
            "type": "scattergl"
           }
          ],
          "scattermapbox": [
           {
            "marker": {
             "colorbar": {
              "outlinewidth": 0,
              "ticks": ""
             }
            },
            "type": "scattermapbox"
           }
          ],
          "scatterpolar": [
           {
            "marker": {
             "colorbar": {
              "outlinewidth": 0,
              "ticks": ""
             }
            },
            "type": "scatterpolar"
           }
          ],
          "scatterpolargl": [
           {
            "marker": {
             "colorbar": {
              "outlinewidth": 0,
              "ticks": ""
             }
            },
            "type": "scatterpolargl"
           }
          ],
          "scatterternary": [
           {
            "marker": {
             "colorbar": {
              "outlinewidth": 0,
              "ticks": ""
             }
            },
            "type": "scatterternary"
           }
          ],
          "surface": [
           {
            "colorbar": {
             "outlinewidth": 0,
             "ticks": ""
            },
            "colorscale": [
             [
              0,
              "#0d0887"
             ],
             [
              0.1111111111111111,
              "#46039f"
             ],
             [
              0.2222222222222222,
              "#7201a8"
             ],
             [
              0.3333333333333333,
              "#9c179e"
             ],
             [
              0.4444444444444444,
              "#bd3786"
             ],
             [
              0.5555555555555556,
              "#d8576b"
             ],
             [
              0.6666666666666666,
              "#ed7953"
             ],
             [
              0.7777777777777778,
              "#fb9f3a"
             ],
             [
              0.8888888888888888,
              "#fdca26"
             ],
             [
              1,
              "#f0f921"
             ]
            ],
            "type": "surface"
           }
          ],
          "table": [
           {
            "cells": {
             "fill": {
              "color": "#EBF0F8"
             },
             "line": {
              "color": "white"
             }
            },
            "header": {
             "fill": {
              "color": "#C8D4E3"
             },
             "line": {
              "color": "white"
             }
            },
            "type": "table"
           }
          ]
         },
         "layout": {
          "annotationdefaults": {
           "arrowcolor": "#2a3f5f",
           "arrowhead": 0,
           "arrowwidth": 1
          },
          "autotypenumbers": "strict",
          "coloraxis": {
           "colorbar": {
            "outlinewidth": 0,
            "ticks": ""
           }
          },
          "colorscale": {
           "diverging": [
            [
             0,
             "#8e0152"
            ],
            [
             0.1,
             "#c51b7d"
            ],
            [
             0.2,
             "#de77ae"
            ],
            [
             0.3,
             "#f1b6da"
            ],
            [
             0.4,
             "#fde0ef"
            ],
            [
             0.5,
             "#f7f7f7"
            ],
            [
             0.6,
             "#e6f5d0"
            ],
            [
             0.7,
             "#b8e186"
            ],
            [
             0.8,
             "#7fbc41"
            ],
            [
             0.9,
             "#4d9221"
            ],
            [
             1,
             "#276419"
            ]
           ],
           "sequential": [
            [
             0,
             "#0d0887"
            ],
            [
             0.1111111111111111,
             "#46039f"
            ],
            [
             0.2222222222222222,
             "#7201a8"
            ],
            [
             0.3333333333333333,
             "#9c179e"
            ],
            [
             0.4444444444444444,
             "#bd3786"
            ],
            [
             0.5555555555555556,
             "#d8576b"
            ],
            [
             0.6666666666666666,
             "#ed7953"
            ],
            [
             0.7777777777777778,
             "#fb9f3a"
            ],
            [
             0.8888888888888888,
             "#fdca26"
            ],
            [
             1,
             "#f0f921"
            ]
           ],
           "sequentialminus": [
            [
             0,
             "#0d0887"
            ],
            [
             0.1111111111111111,
             "#46039f"
            ],
            [
             0.2222222222222222,
             "#7201a8"
            ],
            [
             0.3333333333333333,
             "#9c179e"
            ],
            [
             0.4444444444444444,
             "#bd3786"
            ],
            [
             0.5555555555555556,
             "#d8576b"
            ],
            [
             0.6666666666666666,
             "#ed7953"
            ],
            [
             0.7777777777777778,
             "#fb9f3a"
            ],
            [
             0.8888888888888888,
             "#fdca26"
            ],
            [
             1,
             "#f0f921"
            ]
           ]
          },
          "colorway": [
           "#636efa",
           "#EF553B",
           "#00cc96",
           "#ab63fa",
           "#FFA15A",
           "#19d3f3",
           "#FF6692",
           "#B6E880",
           "#FF97FF",
           "#FECB52"
          ],
          "font": {
           "color": "#2a3f5f"
          },
          "geo": {
           "bgcolor": "white",
           "lakecolor": "white",
           "landcolor": "#E5ECF6",
           "showlakes": true,
           "showland": true,
           "subunitcolor": "white"
          },
          "hoverlabel": {
           "align": "left"
          },
          "hovermode": "closest",
          "mapbox": {
           "style": "light"
          },
          "paper_bgcolor": "white",
          "plot_bgcolor": "#E5ECF6",
          "polar": {
           "angularaxis": {
            "gridcolor": "white",
            "linecolor": "white",
            "ticks": ""
           },
           "bgcolor": "#E5ECF6",
           "radialaxis": {
            "gridcolor": "white",
            "linecolor": "white",
            "ticks": ""
           }
          },
          "scene": {
           "xaxis": {
            "backgroundcolor": "#E5ECF6",
            "gridcolor": "white",
            "gridwidth": 2,
            "linecolor": "white",
            "showbackground": true,
            "ticks": "",
            "zerolinecolor": "white"
           },
           "yaxis": {
            "backgroundcolor": "#E5ECF6",
            "gridcolor": "white",
            "gridwidth": 2,
            "linecolor": "white",
            "showbackground": true,
            "ticks": "",
            "zerolinecolor": "white"
           },
           "zaxis": {
            "backgroundcolor": "#E5ECF6",
            "gridcolor": "white",
            "gridwidth": 2,
            "linecolor": "white",
            "showbackground": true,
            "ticks": "",
            "zerolinecolor": "white"
           }
          },
          "shapedefaults": {
           "line": {
            "color": "#2a3f5f"
           }
          },
          "ternary": {
           "aaxis": {
            "gridcolor": "white",
            "linecolor": "white",
            "ticks": ""
           },
           "baxis": {
            "gridcolor": "white",
            "linecolor": "white",
            "ticks": ""
           },
           "bgcolor": "#E5ECF6",
           "caxis": {
            "gridcolor": "white",
            "linecolor": "white",
            "ticks": ""
           }
          },
          "title": {
           "x": 0.05
          },
          "xaxis": {
           "automargin": true,
           "gridcolor": "white",
           "linecolor": "white",
           "ticks": "",
           "title": {
            "standoff": 15
           },
           "zerolinecolor": "white",
           "zerolinewidth": 2
          },
          "yaxis": {
           "automargin": true,
           "gridcolor": "white",
           "linecolor": "white",
           "ticks": "",
           "title": {
            "standoff": 15
           },
           "zerolinecolor": "white",
           "zerolinewidth": 2
          }
         }
        },
        "title": {
         "text": "V(DS) = -0.1 V"
        },
        "xaxis": {
         "title": {
          "text": "V(GS)"
         }
        },
        "yaxis": {
         "title": {
          "text": "I(DS)"
         }
        }
       }
      }
     },
     "metadata": {},
     "output_type": "display_data"
    }
   ],
   "source": [
    "i = -0.1\n",
    "a = 0.001\n",
    "fig = go.Figure()\n",
    "b = results_combined['Name'].unique()\n",
    "for c in b:\n",
    "    results = results_combined[results_combined['Name']==c]\n",
    "    data =results[results['Source']>=i-a][results['Source']<=i+a]\n",
    "    fig.add_trace(go.Scatter(x=data['bias'],y=data['abs_Read'],mode='markers', name = 'Sample: '+str(c)))\n",
    "\n",
    "fig.update_layout(\n",
    "    title=\"V(DS) = \" +  str(i) + ' V',\n",
    "    xaxis_title=\"V(GS)\",\n",
    "    yaxis_title=\"I(DS)\"\n",
    ")    \n",
    "fig.show()\n",
    "fig.write_html(sample_folder +str(i) + '_Overview_Bias_vs_Current_lin.html')\n",
    "results_combined.to_csv(sample_folder + 'Overview_Data.csv')"
   ]
  }
 ],
 "metadata": {
  "kernelspec": {
   "display_name": "Python 3",
   "language": "python",
   "name": "python3"
  },
  "language_info": {
   "codemirror_mode": {
    "name": "ipython",
    "version": 3
   },
   "file_extension": ".py",
   "mimetype": "text/x-python",
   "name": "python",
   "nbconvert_exporter": "python",
   "pygments_lexer": "ipython3",
   "version": "3.9.13 (main, Aug 25 2022, 23:51:50) [MSC v.1916 64 bit (AMD64)]"
  },
  "orig_nbformat": 4,
  "vscode": {
   "interpreter": {
    "hash": "ad2bdc8ecc057115af97d19610ffacc2b4e99fae6737bb82f5d7fb13d2f2c186"
   }
  }
 },
 "nbformat": 4,
 "nbformat_minor": 2
}
